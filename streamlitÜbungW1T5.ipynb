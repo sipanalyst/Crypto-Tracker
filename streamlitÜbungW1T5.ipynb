{
 "cells": [
  {
   "cell_type": "markdown",
   "id": "957dba91",
   "metadata": {},
   "source": [
    "# 🧪 Übung: Krypto-Tracker mit Streamlit und CoinGecko API"
   ]
  },
  {
   "cell_type": "markdown",
   "id": "51aabb71",
   "metadata": {},
   "source": [
    "\n",
    "In dieser Übung entwickelst du eine kleine **Streamlit-Webanwendung**, mit der du den **aktuellen Kurs von Kryptowährungen** abfragen, in einer **lokalen SQLite-Datenbank speichern** und **visualisieren** kannst.\n",
    "\n",
    "Die Kursdaten werden über die **öffentliche CoinGecko API** bezogen.\n",
    "\n",
    "---\n",
    "\n",
    "## 🧰 Vorbereitung\n",
    "\n",
    "Installiere ggf. die benötigten Pakete:\n",
    "```bash\n",
    "pip install streamlit requests pandas altair\n",
    "```\n"
   ]
  },
  {
   "cell_type": "markdown",
   "id": "f404a541",
   "metadata": {},
   "source": [
    "\n",
    "## 🧩 Aufgabe 1: Benutzeroberfläche vorbereiten\n",
    "\n",
    "1. Importiere die notwendigen Bibliotheken (`streamlit`, `requests`, `sqlite3`, `pandas`, `altair`)\n",
    "2. Setze den Titel deiner App: `st.title(\"Krypto-Tracker mit CoinGecko API\")`\n",
    "3. Erstelle Eingabefelder für:\n",
    "   - Kryptowährung (Textfeld)\n",
    "   - Button: \"Kurs abrufen\"\n"
   ]
  },
  {
   "cell_type": "code",
   "execution_count": null,
   "id": "90cc68f4-3482-454c-b094-0476a16f7fbd",
   "metadata": {},
   "outputs": [],
   "source": [
    "#Python Programm schreiben:\n",
    "\n"
   ]
  },
  {
   "cell_type": "markdown",
   "id": "93522f39",
   "metadata": {},
   "source": [
    "\n",
    "## 🔌 Aufgabe 2: Kursdaten abrufen\n",
    "\n",
    "Nutze die [CoinGecko API](https://www.coingecko.com/en/api) mit folgendem Endpunkt:\n",
    "\n",
    "```https://api.coingecko.com/api/v3/simple/price?ids=bitcoin&vs_currencies=eur```\n",
    "\n",
    "### Anforderungen:\n",
    "- Verwende `requests.get(...)` um den Preis abzurufen\n",
    "- Gib `coin_id` dynamisch anhand der Benutzereingabe ein (z. B. `\"bitcoin\"`)\n",
    "- Speichere den Preis zusammen mit einem Zeitstempel und Coin-Namen\n",
    "\n",
    "Beispielhafte Antwort der API:\n",
    "```json\n",
    "{\n",
    "  \"bitcoin\": {\n",
    "    \"eur\": 43123.45\n",
    "  }\n",
    "}\n",
    "```\n"
   ]
  },
  {
   "cell_type": "code",
   "execution_count": null,
   "id": "cb9383f4-1fd2-4f0b-87a0-7bed3fdf1eb0",
   "metadata": {},
   "outputs": [],
   "source": [
    "# Python Programm schreiben:\n",
    "\n"
   ]
  },
  {
   "cell_type": "markdown",
   "id": "43a92255",
   "metadata": {},
   "source": [
    "\n",
    "## 💾 Aufgabe 3: Datenbank erstellen und speichern\n",
    "\n",
    "1. Erstelle eine SQLite-Datenbank `crypto.db`\n",
    "2. Erstelle eine Tabelle `preise` mit folgenden Spalten:\n",
    "   - `id` (Auto-Inkrement)\n",
    "   - `coin` (Text)\n",
    "   - `price` (Real)\n",
    "   - `timestamp` (aktueller Zeitstempel)\n",
    "3. Speichere die abgerufenen Preise in dieser Tabelle.\n"
   ]
  },
  {
   "cell_type": "code",
   "execution_count": null,
   "id": "66cab88e-7bc8-4caf-aee2-af1fb9aed39a",
   "metadata": {},
   "outputs": [],
   "source": [
    "# Python Programm schreiben:\n",
    "\n"
   ]
  },
  {
   "cell_type": "markdown",
   "id": "15d778e6",
   "metadata": {},
   "source": [
    "\n",
    "## 📊 Aufgabe 4: Daten anzeigen und visualisieren\n",
    "\n",
    "1. Lies alle Daten aus der Datenbank\n",
    "2. Zeige sie in einem `st.dataframe()` an\n",
    "3. Erstelle ein Liniendiagramm (Altair), das den Preisverlauf zeigt\n"
   ]
  },
  {
   "cell_type": "code",
   "execution_count": null,
   "id": "47abd3d9-2696-478b-b558-379eeb4dbba2",
   "metadata": {},
   "outputs": [],
   "source": [
    "# Python Programm schreiben:\n",
    "\n"
   ]
  },
  {
   "cell_type": "markdown",
   "id": "06738ded",
   "metadata": {},
   "source": [
    "\n",
    "## 🔍 Aufgabe 5: Filtern nach Kryptowährung\n",
    "\n",
    "Ermögliche dem Benutzer, eine gespeicherte Kryptowährung auszuwählen (z. B. via `selectbox`), und zeige nur deren Verlauf an.\n"
   ]
  },
  {
   "cell_type": "code",
   "execution_count": null,
   "id": "d9ee62ea-f907-4f6a-aa68-d86677099e11",
   "metadata": {},
   "outputs": [],
   "source": [
    "# Python Programm schreiben:\n",
    "\n"
   ]
  },
  {
   "cell_type": "markdown",
   "id": "5c7939ec",
   "metadata": {},
   "source": [
    "\n",
    "## 🗑️ Aufgabe 6: Einträge löschen\n",
    "\n",
    "1. Gib dem Benutzer die Möglichkeit, eine `ID` einzugeben\n",
    "2. Füge einen Button hinzu, um den gewählten Datensatz aus der Datenbank zu löschen\n"
   ]
  },
  {
   "cell_type": "code",
   "execution_count": null,
   "id": "48c1b28c-4469-428f-a5c9-004ec02883a4",
   "metadata": {},
   "outputs": [],
   "source": [
    "# Python Programm schreiben:\n",
    "\n"
   ]
  }
 ],
 "metadata": {
  "kernelspec": {
   "display_name": "Python 3 (ipykernel)",
   "language": "python",
   "name": "python3"
  },
  "language_info": {
   "codemirror_mode": {
    "name": "ipython",
    "version": 3
   },
   "file_extension": ".py",
   "mimetype": "text/x-python",
   "name": "python",
   "nbconvert_exporter": "python",
   "pygments_lexer": "ipython3",
   "version": "3.12.4"
  }
 },
 "nbformat": 4,
 "nbformat_minor": 5
}
